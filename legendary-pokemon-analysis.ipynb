{
 "cells": [
  {
   "cell_type": "markdown",
   "metadata": {},
   "source": [
    "# What Makes a Pokémon Legendary?"
   ]
  },
  {
   "cell_type": "markdown",
   "metadata": {},
   "source": [
    "### Importing Data"
   ]
  },
  {
   "cell_type": "code",
   "execution_count": 192,
   "metadata": {
    "vscode": {
     "languageId": "r"
    }
   },
   "outputs": [
    {
     "data": {
      "text/html": [
       "<table class=\"dataframe\">\n",
       "<caption>A tibble: 6 × 16</caption>\n",
       "<thead>\n",
       "\t<tr><th scope=col>attack</th><th scope=col>capture_rate</th><th scope=col>defense</th><th scope=col>height_m</th><th scope=col>hp</th><th scope=col>name</th><th scope=col>percentage_male</th><th scope=col>pokedex_number</th><th scope=col>sp_attack</th><th scope=col>sp_defense</th><th scope=col>speed</th><th scope=col>type</th><th scope=col>weight_kg</th><th scope=col>generation</th><th scope=col>is_legendary</th><th scope=col>popularity_score</th></tr>\n",
       "\t<tr><th scope=col>&lt;dbl&gt;</th><th scope=col>&lt;chr&gt;</th><th scope=col>&lt;dbl&gt;</th><th scope=col>&lt;dbl&gt;</th><th scope=col>&lt;dbl&gt;</th><th scope=col>&lt;fct&gt;</th><th scope=col>&lt;dbl&gt;</th><th scope=col>&lt;dbl&gt;</th><th scope=col>&lt;dbl&gt;</th><th scope=col>&lt;dbl&gt;</th><th scope=col>&lt;dbl&gt;</th><th scope=col>&lt;fct&gt;</th><th scope=col>&lt;dbl&gt;</th><th scope=col>&lt;dbl&gt;</th><th scope=col>&lt;fct&gt;</th><th scope=col>&lt;dbl&gt;</th></tr>\n",
       "</thead>\n",
       "<tbody>\n",
       "\t<tr><td> 49</td><td>45</td><td> 49</td><td>0.7</td><td>45</td><td>Bulbasaur </td><td>88.1</td><td>1</td><td> 65</td><td> 65</td><td> 45</td><td>grass</td><td>  6.9</td><td>1</td><td>0</td><td>44.40</td></tr>\n",
       "\t<tr><td> 62</td><td>45</td><td> 63</td><td>1.0</td><td>60</td><td>Ivysaur   </td><td>88.1</td><td>2</td><td> 80</td><td> 80</td><td> 60</td><td>grass</td><td> 13.0</td><td>1</td><td>0</td><td>48.75</td></tr>\n",
       "\t<tr><td>100</td><td>45</td><td>123</td><td>2.0</td><td>80</td><td>Venusaur  </td><td>88.1</td><td>3</td><td>122</td><td>120</td><td> 80</td><td>grass</td><td>100.0</td><td>1</td><td>0</td><td>59.75</td></tr>\n",
       "\t<tr><td> 52</td><td>45</td><td> 43</td><td>0.6</td><td>39</td><td>Charmander</td><td>88.1</td><td>4</td><td> 60</td><td> 50</td><td> 65</td><td>fire </td><td>  8.5</td><td>1</td><td>0</td><td>44.45</td></tr>\n",
       "\t<tr><td> 64</td><td>45</td><td> 58</td><td>1.1</td><td>58</td><td>Charmeleon</td><td>88.1</td><td>5</td><td> 80</td><td> 65</td><td> 80</td><td>fire </td><td> 19.0</td><td>1</td><td>0</td><td>49.25</td></tr>\n",
       "\t<tr><td>104</td><td>45</td><td> 78</td><td>1.7</td><td>78</td><td>Charizard </td><td>88.1</td><td>6</td><td>159</td><td>115</td><td>100</td><td>fire </td><td> 90.5</td><td>1</td><td>0</td><td>60.70</td></tr>\n",
       "</tbody>\n",
       "</table>\n"
      ],
      "text/latex": [
       "A tibble: 6 × 16\n",
       "\\begin{tabular}{llllllllllllllll}\n",
       " attack & capture\\_rate & defense & height\\_m & hp & name & percentage\\_male & pokedex\\_number & sp\\_attack & sp\\_defense & speed & type & weight\\_kg & generation & is\\_legendary & popularity\\_score\\\\\n",
       " <dbl> & <chr> & <dbl> & <dbl> & <dbl> & <fct> & <dbl> & <dbl> & <dbl> & <dbl> & <dbl> & <fct> & <dbl> & <dbl> & <fct> & <dbl>\\\\\n",
       "\\hline\n",
       "\t  49 & 45 &  49 & 0.7 & 45 & Bulbasaur  & 88.1 & 1 &  65 &  65 &  45 & grass &   6.9 & 1 & 0 & 44.40\\\\\n",
       "\t  62 & 45 &  63 & 1.0 & 60 & Ivysaur    & 88.1 & 2 &  80 &  80 &  60 & grass &  13.0 & 1 & 0 & 48.75\\\\\n",
       "\t 100 & 45 & 123 & 2.0 & 80 & Venusaur   & 88.1 & 3 & 122 & 120 &  80 & grass & 100.0 & 1 & 0 & 59.75\\\\\n",
       "\t  52 & 45 &  43 & 0.6 & 39 & Charmander & 88.1 & 4 &  60 &  50 &  65 & fire  &   8.5 & 1 & 0 & 44.45\\\\\n",
       "\t  64 & 45 &  58 & 1.1 & 58 & Charmeleon & 88.1 & 5 &  80 &  65 &  80 & fire  &  19.0 & 1 & 0 & 49.25\\\\\n",
       "\t 104 & 45 &  78 & 1.7 & 78 & Charizard  & 88.1 & 6 & 159 & 115 & 100 & fire  &  90.5 & 1 & 0 & 60.70\\\\\n",
       "\\end{tabular}\n"
      ],
      "text/markdown": [
       "\n",
       "A tibble: 6 × 16\n",
       "\n",
       "| attack &lt;dbl&gt; | capture_rate &lt;chr&gt; | defense &lt;dbl&gt; | height_m &lt;dbl&gt; | hp &lt;dbl&gt; | name &lt;fct&gt; | percentage_male &lt;dbl&gt; | pokedex_number &lt;dbl&gt; | sp_attack &lt;dbl&gt; | sp_defense &lt;dbl&gt; | speed &lt;dbl&gt; | type &lt;fct&gt; | weight_kg &lt;dbl&gt; | generation &lt;dbl&gt; | is_legendary &lt;fct&gt; | popularity_score &lt;dbl&gt; |\n",
       "|---|---|---|---|---|---|---|---|---|---|---|---|---|---|---|---|\n",
       "|  49 | 45 |  49 | 0.7 | 45 | Bulbasaur  | 88.1 | 1 |  65 |  65 |  45 | grass |   6.9 | 1 | 0 | 44.40 |\n",
       "|  62 | 45 |  63 | 1.0 | 60 | Ivysaur    | 88.1 | 2 |  80 |  80 |  60 | grass |  13.0 | 1 | 0 | 48.75 |\n",
       "| 100 | 45 | 123 | 2.0 | 80 | Venusaur   | 88.1 | 3 | 122 | 120 |  80 | grass | 100.0 | 1 | 0 | 59.75 |\n",
       "|  52 | 45 |  43 | 0.6 | 39 | Charmander | 88.1 | 4 |  60 |  50 |  65 | fire  |   8.5 | 1 | 0 | 44.45 |\n",
       "|  64 | 45 |  58 | 1.1 | 58 | Charmeleon | 88.1 | 5 |  80 |  65 |  80 | fire  |  19.0 | 1 | 0 | 49.25 |\n",
       "| 104 | 45 |  78 | 1.7 | 78 | Charizard  | 88.1 | 6 | 159 | 115 | 100 | fire  |  90.5 | 1 | 0 | 60.70 |\n",
       "\n"
      ],
      "text/plain": [
       "  attack capture_rate defense height_m hp name       percentage_male\n",
       "1  49    45            49     0.7      45 Bulbasaur  88.1           \n",
       "2  62    45            63     1.0      60 Ivysaur    88.1           \n",
       "3 100    45           123     2.0      80 Venusaur   88.1           \n",
       "4  52    45            43     0.6      39 Charmander 88.1           \n",
       "5  64    45            58     1.1      58 Charmeleon 88.1           \n",
       "6 104    45            78     1.7      78 Charizard  88.1           \n",
       "  pokedex_number sp_attack sp_defense speed type  weight_kg generation\n",
       "1 1               65        65         45   grass   6.9     1         \n",
       "2 2               80        80         60   grass  13.0     1         \n",
       "3 3              122       120         80   grass 100.0     1         \n",
       "4 4               60        50         65   fire    8.5     1         \n",
       "5 5               80        65         80   fire   19.0     1         \n",
       "6 6              159       115        100   fire   90.5     1         \n",
       "  is_legendary popularity_score\n",
       "1 0            44.40           \n",
       "2 0            48.75           \n",
       "3 0            59.75           \n",
       "4 0            44.45           \n",
       "5 0            49.25           \n",
       "6 0            60.70           "
      ]
     },
     "metadata": {},
     "output_type": "display_data"
    },
    {
     "name": "stdout",
     "output_type": "stream",
     "text": [
      "spc_tbl_ [801 × 16] (S3: spec_tbl_df/tbl_df/tbl/data.frame)\n",
      " $ attack          : num [1:801] 49 62 100 52 64 104 48 63 103 30 ...\n",
      " $ capture_rate    : chr [1:801] \"45\" \"45\" \"45\" \"45\" ...\n",
      " $ defense         : num [1:801] 49 63 123 43 58 78 65 80 120 35 ...\n",
      " $ height_m        : num [1:801] 0.7 1 2 0.6 1.1 1.7 0.5 1 1.6 0.3 ...\n",
      " $ hp              : num [1:801] 45 60 80 39 58 78 44 59 79 45 ...\n",
      " $ name            : Factor w/ 801 levels \"Bulbasaur\",\"Ivysaur\",..: 1 2 3 4 5 6 7 8 9 10 ...\n",
      " $ percentage_male : num [1:801] 88.1 88.1 88.1 88.1 88.1 88.1 88.1 88.1 88.1 50 ...\n",
      " $ pokedex_number  : num [1:801] 1 2 3 4 5 6 7 8 9 10 ...\n",
      " $ sp_attack       : num [1:801] 65 80 122 60 80 159 50 65 135 20 ...\n",
      " $ sp_defense      : num [1:801] 65 80 120 50 65 115 64 80 115 20 ...\n",
      " $ speed           : num [1:801] 45 60 80 65 80 100 43 58 78 45 ...\n",
      " $ type            : Factor w/ 18 levels \"grass\",\"fire\",..: 1 1 1 2 2 2 3 3 3 4 ...\n",
      " $ weight_kg       : num [1:801] 6.9 13 100 8.5 19 90.5 9 22.5 85.5 2.9 ...\n",
      " $ generation      : num [1:801] 1 1 1 1 1 1 1 1 1 1 ...\n",
      " $ is_legendary    : Factor w/ 2 levels \"0\",\"1\": 1 1 1 1 1 1 1 1 1 1 ...\n",
      " $ popularity_score: num [1:801] 44.4 48.8 59.8 44.5 49.2 ...\n",
      " - attr(*, \"spec\")=\n",
      "  .. cols(\n",
      "  ..   attack = \u001b[32mcol_double()\u001b[39m,\n",
      "  ..   capture_rate = \u001b[31mcol_character()\u001b[39m,\n",
      "  ..   defense = \u001b[32mcol_double()\u001b[39m,\n",
      "  ..   height_m = \u001b[32mcol_double()\u001b[39m,\n",
      "  ..   hp = \u001b[32mcol_double()\u001b[39m,\n",
      "  ..   name = \u001b[31mcol_factor(levels = NULL, ordered = FALSE, include_na = FALSE)\u001b[39m,\n",
      "  ..   percentage_male = \u001b[32mcol_double()\u001b[39m,\n",
      "  ..   pokedex_number = \u001b[32mcol_double()\u001b[39m,\n",
      "  ..   sp_attack = \u001b[32mcol_double()\u001b[39m,\n",
      "  ..   sp_defense = \u001b[32mcol_double()\u001b[39m,\n",
      "  ..   speed = \u001b[32mcol_double()\u001b[39m,\n",
      "  ..   type = \u001b[31mcol_factor(levels = NULL, ordered = FALSE, include_na = FALSE)\u001b[39m,\n",
      "  ..   weight_kg = \u001b[32mcol_double()\u001b[39m,\n",
      "  ..   generation = \u001b[32mcol_double()\u001b[39m,\n",
      "  ..   is_legendary = \u001b[31mcol_factor(levels = NULL, ordered = FALSE, include_na = FALSE)\u001b[39m,\n",
      "  ..   popularity_score = \u001b[32mcol_double()\u001b[39m\n",
      "  .. )\n",
      " - attr(*, \"problems\")=<externalptr> \n"
     ]
    }
   ],
   "source": [
    "library(tidyverse)\n",
    "\n",
    "pokemon <- read_csv(\"./pokemon_dataset.csv\",\n",
    "                    col_types = cols(name = col_factor(),\n",
    "                                     type = col_factor(),\n",
    "                                     is_legendary = col_factor()))\n",
    "\n",
    "head(pokemon)\n",
    "str(pokemon)"
   ]
  },
  {
   "cell_type": "markdown",
   "metadata": {},
   "source": [
    "### Cleaning Data"
   ]
  },
  {
   "cell_type": "code",
   "execution_count": 193,
   "metadata": {
    "vscode": {
     "languageId": "r"
    }
   },
   "outputs": [],
   "source": [
    "pokemon <- pokemon[!is.na(pokemon$weight_kg) & !is.na(pokemon$height_m),]"
   ]
  },
  {
   "cell_type": "markdown",
   "metadata": {},
   "source": [
    "## How many Pokemon's are Legendary?"
   ]
  },
  {
   "cell_type": "markdown",
   "metadata": {},
   "source": [
    "We can see that only 9 percent of the total pokemon count are legendary"
   ]
  },
  {
   "cell_type": "code",
   "execution_count": 194,
   "metadata": {
    "vscode": {
     "languageId": "r"
    }
   },
   "outputs": [
    {
     "data": {
      "text/html": [
       "<table class=\"dataframe\">\n",
       "<caption>A tibble: 2 × 3</caption>\n",
       "<thead>\n",
       "\t<tr><th scope=col>is_legendary</th><th scope=col>n</th><th scope=col>prop</th></tr>\n",
       "\t<tr><th scope=col>&lt;fct&gt;</th><th scope=col>&lt;int&gt;</th><th scope=col>&lt;dbl&gt;</th></tr>\n",
       "</thead>\n",
       "<tbody>\n",
       "\t<tr><td>0</td><td>712</td><td>91.165173</td></tr>\n",
       "\t<tr><td>1</td><td> 69</td><td> 8.834827</td></tr>\n",
       "</tbody>\n",
       "</table>\n"
      ],
      "text/latex": [
       "A tibble: 2 × 3\n",
       "\\begin{tabular}{lll}\n",
       " is\\_legendary & n & prop\\\\\n",
       " <fct> & <int> & <dbl>\\\\\n",
       "\\hline\n",
       "\t 0 & 712 & 91.165173\\\\\n",
       "\t 1 &  69 &  8.834827\\\\\n",
       "\\end{tabular}\n"
      ],
      "text/markdown": [
       "\n",
       "A tibble: 2 × 3\n",
       "\n",
       "| is_legendary &lt;fct&gt; | n &lt;int&gt; | prop &lt;dbl&gt; |\n",
       "|---|---|---|\n",
       "| 0 | 712 | 91.165173 |\n",
       "| 1 |  69 |  8.834827 |\n",
       "\n"
      ],
      "text/plain": [
       "  is_legendary n   prop     \n",
       "1 0            712 91.165173\n",
       "2 1             69  8.834827"
      ]
     },
     "metadata": {},
     "output_type": "display_data"
    }
   ],
   "source": [
    "legendary_pokemon <- pokemon %>% count(is_legendary) %>% \n",
    "  mutate(prop = (n / nrow(pokemon)) * 100)\n",
    "\n",
    "legendary_pokemon"
   ]
  },
  {
   "cell_type": "markdown",
   "metadata": {},
   "source": [
    "### Legendary Pokemon by Height and Weight"
   ]
  },
  {
   "cell_type": "markdown",
   "metadata": {},
   "source": [
    "We are printing Pokemon's name if it is taller than 7.5m or heavier than 600kgs"
   ]
  },
  {
   "cell_type": "code",
   "execution_count": 195,
   "metadata": {
    "vscode": {
     "languageId": "r"
    }
   },
   "outputs": [
    {
     "name": "stderr",
     "output_type": "stream",
     "text": [
      "\u001b[1m\u001b[22m`geom_smooth()` using formula = 'y ~ x'\n",
      "Warning message:\n",
      "\"\u001b[1m\u001b[22mRemoved 20 rows containing non-finite outside the scale range\n",
      "(`stat_smooth()`).\"\n",
      "Warning message:\n",
      "\"\u001b[1m\u001b[22mRemoved 20 rows containing missing values or values outside the scale range\n",
      "(`geom_point()`).\"\n",
      "Warning message:\n",
      "\"\u001b[1m\u001b[22mRemoved 20 rows containing missing values or values outside the scale range\n",
      "(`geom_text()`).\"\n"
     ]
    },
    {
     "data": {
      "image/png": "[encoded data removed]",
      "text/plain": [
       "plot without title"
      ]
     },
     "metadata": {
      "image/png": {
       "height": 420,
       "width": 420
      }
     },
     "output_type": "display_data"
    }
   ],
   "source": [
    "legendary_by_htwt_plot <- pokemon %>%\n",
    "  ggplot(aes(x = height_m, y = weight_kg)) +\n",
    "  geom_point(aes(color = is_legendary), size = 2) +\n",
    "  geom_text(aes(label = ifelse(height_m > 7.5 | weight_kg > 600, as.character(name), '')),\n",
    "            vjust = 0, hjust = 0) +\n",
    "  geom_smooth(method = \"lm\", se = FALSE, col = \"black\", linetype = \"dashed\") +\n",
    "  expand_limits(x = 16) +\n",
    "  labs(title = \"Legendary Pokemon by Height and Weight\",\n",
    "       x = \"Height(m)\", y = \"Weight(kg)\") +\n",
    "  guides(color = guide_legend(title = \"Pokemon Status\")) +\n",
    "  scale_color_manual(labels = c(\"Non-Legendary\", \"Legendary\"),\n",
    "                     values = c(\"#F87660\", \"#00BFC4\"))\n",
    "\n",
    "legendary_by_height_weight"
   ]
  },
  {
   "cell_type": "markdown",
   "metadata": {},
   "source": [
    "### Legendary Pokemon by Type"
   ]
  },
  {
   "cell_type": "markdown",
   "metadata": {},
   "source": [
    "There are 18 possible types"
   ]
  },
  {
   "cell_type": "code",
   "execution_count": 196,
   "metadata": {
    "vscode": {
     "languageId": "r"
    }
   },
   "outputs": [
    {
     "data": {
      "text/html": [
       "<table class=\"dataframe\">\n",
       "<caption>A tibble: 18 × 2</caption>\n",
       "<thead>\n",
       "\t<tr><th scope=col>type</th><th scope=col>prop_legendary</th></tr>\n",
       "\t<tr><th scope=col>&lt;fct&gt;</th><th scope=col>&lt;dbl&gt;</th></tr>\n",
       "</thead>\n",
       "<tbody>\n",
       "\t<tr><td>grass   </td><td>0.05194805</td></tr>\n",
       "\t<tr><td>fire    </td><td>0.10000000</td></tr>\n",
       "\t<tr><td>water   </td><td>0.05263158</td></tr>\n",
       "\t<tr><td>bug     </td><td>0.04166667</td></tr>\n",
       "\t<tr><td>normal  </td><td>0.02970297</td></tr>\n",
       "\t<tr><td>poison  </td><td>0.00000000</td></tr>\n",
       "\t<tr><td>electric</td><td>0.13157895</td></tr>\n",
       "\t<tr><td>ground  </td><td>0.07407407</td></tr>\n",
       "\t<tr><td>fairy   </td><td>0.05555556</td></tr>\n",
       "\t<tr><td>fighting</td><td>0.00000000</td></tr>\n",
       "\t<tr><td>psychic </td><td>0.30769231</td></tr>\n",
       "\t<tr><td>rock    </td><td>0.09756098</td></tr>\n",
       "\t<tr><td>ghost   </td><td>0.03703704</td></tr>\n",
       "\t<tr><td>ice     </td><td>0.08695652</td></tr>\n",
       "\t<tr><td>dragon  </td><td>0.25925926</td></tr>\n",
       "\t<tr><td>dark    </td><td>0.10344828</td></tr>\n",
       "\t<tr><td>steel   </td><td>0.25000000</td></tr>\n",
       "\t<tr><td>flying  </td><td>0.33333333</td></tr>\n",
       "</tbody>\n",
       "</table>\n"
      ],
      "text/latex": [
       "A tibble: 18 × 2\n",
       "\\begin{tabular}{ll}\n",
       " type & prop\\_legendary\\\\\n",
       " <fct> & <dbl>\\\\\n",
       "\\hline\n",
       "\t grass    & 0.05194805\\\\\n",
       "\t fire     & 0.10000000\\\\\n",
       "\t water    & 0.05263158\\\\\n",
       "\t bug      & 0.04166667\\\\\n",
       "\t normal   & 0.02970297\\\\\n",
       "\t poison   & 0.00000000\\\\\n",
       "\t electric & 0.13157895\\\\\n",
       "\t ground   & 0.07407407\\\\\n",
       "\t fairy    & 0.05555556\\\\\n",
       "\t fighting & 0.00000000\\\\\n",
       "\t psychic  & 0.30769231\\\\\n",
       "\t rock     & 0.09756098\\\\\n",
       "\t ghost    & 0.03703704\\\\\n",
       "\t ice      & 0.08695652\\\\\n",
       "\t dragon   & 0.25925926\\\\\n",
       "\t dark     & 0.10344828\\\\\n",
       "\t steel    & 0.25000000\\\\\n",
       "\t flying   & 0.33333333\\\\\n",
       "\\end{tabular}\n"
      ],
      "text/markdown": [
       "\n",
       "A tibble: 18 × 2\n",
       "\n",
       "| type &lt;fct&gt; | prop_legendary &lt;dbl&gt; |\n",
       "|---|---|\n",
       "| grass    | 0.05194805 |\n",
       "| fire     | 0.10000000 |\n",
       "| water    | 0.05263158 |\n",
       "| bug      | 0.04166667 |\n",
       "| normal   | 0.02970297 |\n",
       "| poison   | 0.00000000 |\n",
       "| electric | 0.13157895 |\n",
       "| ground   | 0.07407407 |\n",
       "| fairy    | 0.05555556 |\n",
       "| fighting | 0.00000000 |\n",
       "| psychic  | 0.30769231 |\n",
       "| rock     | 0.09756098 |\n",
       "| ghost    | 0.03703704 |\n",
       "| ice      | 0.08695652 |\n",
       "| dragon   | 0.25925926 |\n",
       "| dark     | 0.10344828 |\n",
       "| steel    | 0.25000000 |\n",
       "| flying   | 0.33333333 |\n",
       "\n"
      ],
      "text/plain": [
       "   type     prop_legendary\n",
       "1  grass    0.05194805    \n",
       "2  fire     0.10000000    \n",
       "3  water    0.05263158    \n",
       "4  bug      0.04166667    \n",
       "5  normal   0.02970297    \n",
       "6  poison   0.00000000    \n",
       "7  electric 0.13157895    \n",
       "8  ground   0.07407407    \n",
       "9  fairy    0.05555556    \n",
       "10 fighting 0.00000000    \n",
       "11 psychic  0.30769231    \n",
       "12 rock     0.09756098    \n",
       "13 ghost    0.03703704    \n",
       "14 ice      0.08695652    \n",
       "15 dragon   0.25925926    \n",
       "16 dark     0.10344828    \n",
       "17 steel    0.25000000    \n",
       "18 flying   0.33333333    "
      ]
     },
     "metadata": {},
     "output_type": "display_data"
    }
   ],
   "source": [
    "legendary_by_type <- pokemon %>%\n",
    "  group_by(type) %>%\n",
    "  mutate(is_legendary = as.numeric(is_legendary) - 1) %>%\n",
    "  summarise(prop_legendary = mean(is_legendary)) %>%\n",
    "  mutate(type = fct_reorder(type, prop_legendary))\n",
    "\n",
    "legendary_by_type"
   ]
  },
  {
   "cell_type": "markdown",
   "metadata": {},
   "source": [
    "Plotting the spread of is_legendary status by Pokemon type"
   ]
  },
  {
   "cell_type": "code",
   "execution_count": 197,
   "metadata": {
    "vscode": {
     "languageId": "r"
    }
   },
   "outputs": [
    {
     "data": {
      "image/png": "[encoded data removed]",
      "text/plain": [
       "plot without title"
      ]
     },
     "metadata": {
      "image/png": {
       "height": 420,
       "width": 420
      }
     },
     "output_type": "display_data"
    }
   ],
   "source": [
    "legendary_by_type_plot <- legendary_by_type %>%\n",
    "  ggplot(aes(x = type, y = prop_legendary, fill = prop_legendary)) +\n",
    "  geom_col(color = 'black') +\n",
    "  labs(title = \"Legendary Pokemon by Type\") +\n",
    "  coord_flip() +\n",
    "  guides(fill = \"none\")\n",
    "\n",
    "legendary_by_type_plot"
   ]
  },
  {
   "cell_type": "markdown",
   "metadata": {},
   "source": [
    "### Legendary Pokemon by fighter stats"
   ]
  },
  {
   "cell_type": "markdown",
   "metadata": {},
   "source": [
    "Using boxplot to visualize the influence of Pokemon figher stats -> attack, defence, hp, sp_attack, sp_defence, speed. We'll consider each stat in isolation"
   ]
  },
  {
   "cell_type": "code",
   "execution_count": 198,
   "metadata": {
    "vscode": {
     "languageId": "r"
    }
   },
   "outputs": [
    {
     "data": {
      "image/png": "[encoded data removed]",
      "text/plain": [
       "plot without title"
      ]
     },
     "metadata": {
      "image/png": {
       "height": 420,
       "width": 420
      }
     },
     "output_type": "display_data"
    }
   ],
   "source": [
    "legendary_by_stats <- pokemon %>%\n",
    "  select(is_legendary, attack, sp_attack, defense, sp_defense, hp, speed) %>%\n",
    "  pivot_longer(cols = -is_legendary, names_to = \"fighter_stats\", values_to = \"value\")\n",
    "\n",
    "legendary_by_stats_plot <- legendary_by_stats %>%\n",
    "  ggplot(aes(x = is_legendary, y = value, fill = is_legendary)) +\n",
    "  geom_boxplot(varwidth = TRUE) +\n",
    "  facet_wrap(~fighter_stats, ncol = 2) +\n",
    "  labs(title = \"Pokemon Fight Stats\", x = \"Legendary Status\", y = \"Value\") +\n",
    "  guides(fill = \"none\")\n",
    "\n",
    "legendary_by_stats_plot"
   ]
  },
  {
   "cell_type": "markdown",
   "metadata": {},
   "source": [
    "### Creating train/test Split"
   ]
  },
  {
   "cell_type": "code",
   "execution_count": 199,
   "metadata": {
    "vscode": {
     "languageId": "r"
    }
   },
   "outputs": [],
   "source": [
    "set.seed(42)\n",
    "\n",
    "n <- nrow(pokemon)\n",
    "sample_rows <- sample(n, 0.7 * n)\n",
    "\n",
    "pokemon_train <- pokemon %>%\n",
    "  filter(row_number() %in% sample_rows)\n",
    "pokemon_test <- pokemon %>%\n",
    "  filter(!row_number() %in% sample_rows)"
   ]
  },
  {
   "cell_type": "markdown",
   "metadata": {},
   "source": [
    "### Fitting a decision tree"
   ]
  },
  {
   "cell_type": "code",
   "execution_count": 200,
   "metadata": {
    "vscode": {
     "languageId": "r"
    }
   },
   "outputs": [
    {
     "data": {
      "image/png": "[encoded data removed]",
      "text/plain": [
       "plot without title"
      ]
     },
     "metadata": {
      "image/png": {
       "height": 420,
       "width": 420
      }
     },
     "output_type": "display_data"
    }
   ],
   "source": [
    "library(rpart)\n",
    "library(rpart.plot)\n",
    "set.seed(42)\n",
    "\n",
    "model_tree <- rpart(is_legendary ~ attack + defense + height_m +\n",
    "                      hp + sp_attack + sp_defense + speed + type + weight_kg, \n",
    "                    data = pokemon_train,\n",
    "                    method = \"class\",\n",
    "                    na.action = na.omit)\n",
    "\n",
    "rpart.plot(model_tree)"
   ]
  },
  {
   "cell_type": "markdown",
   "metadata": {},
   "source": [
    "### Fitting a Random Forest"
   ]
  },
  {
   "cell_type": "code",
   "execution_count": 201,
   "metadata": {
    "vscode": {
     "languageId": "r"
    }
   },
   "outputs": [
    {
     "name": "stdout",
     "output_type": "stream",
     "text": [
      "\n",
      "Call:\n",
      " randomForest(formula = is_legendary ~ attack + defense + height_m +      hp + sp_attack + sp_defense + speed + type + weight_kg, data = pokemon_train,      importance = TRUE, na.action = na.omit) \n",
      "               Type of random forest: classification\n",
      "                     Number of trees: 500\n",
      "No. of variables tried at each split: 3\n",
      "\n",
      "        OOB estimate of  error rate: 6.41%\n",
      "Confusion matrix:\n",
      "    0  1 class.error\n",
      "0 488  7  0.01414141\n",
      "1  28 23  0.54901961\n"
     ]
    }
   ],
   "source": [
    "library(randomForest)\n",
    "set.seed(42)\n",
    "\n",
    "model_forest <- randomForest(is_legendary ~ attack + defense + height_m + hp +\n",
    "                              sp_attack + sp_defense + speed + type + weight_kg,\n",
    "                             data = pokemon_train, \n",
    "                             importance = TRUE,\n",
    "                             na.action = na.omit)\n",
    "\n",
    "print(model_forest)"
   ]
  },
  {
   "cell_type": "code",
   "execution_count": 202,
   "metadata": {
    "vscode": {
     "languageId": "r"
    }
   },
   "outputs": [
    {
     "data": {
      "image/png": "[encoded data removed]",
      "text/plain": [
       "Plot with title \"ROC curves\""
      ]
     },
     "metadata": {
      "image/png": {
       "height": 420,
       "width": 420
      }
     },
     "output_type": "display_data"
    }
   ],
   "source": [
    "library(ROCR)\n",
    "\n",
    "probs_tree <- predict(model_tree, pokemon_test, type = \"prob\")\n",
    "pred_tree <- prediction(probs_tree[, 2], pokemon_test$is_legendary)\n",
    "perf_tree <- performance(pred_tree, \"tpr\", \"fpr\")\n",
    "\n",
    "probs_forest <- predict(model_forest, pokemon_test, type = \"prob\")\n",
    "pred_forest <- prediction(probs_forest[, 2], pokemon_test$is_legendary)\n",
    "perf_forest <- performance(pred_forest, \"tpr\", \"fpr\")\n",
    "\n",
    "plot(perf_tree, col = \"red\", main = \"ROC curves\")\n",
    "plot(perf_forest, add = TRUE, col = \"blue\")\n",
    "legend(x = \"bottomright\", legend = c(\"Decision Tree\", \"Random Forest\"), fill = c(\"red\", \"blue\"))"
   ]
  },
  {
   "cell_type": "markdown",
   "metadata": {},
   "source": [
    "### Analysing Variable Importance"
   ]
  },
  {
   "cell_type": "code",
   "execution_count": 203,
   "metadata": {
    "vscode": {
     "languageId": "r"
    }
   },
   "outputs": [
    {
     "data": {
      "text/html": [
       "<table class=\"dataframe\">\n",
       "<caption>A matrix: 9 × 2 of type dbl</caption>\n",
       "<thead>\n",
       "\t<tr><th></th><th scope=col>MeanDecreaseAccuracy</th><th scope=col>MeanDecreaseGini</th></tr>\n",
       "</thead>\n",
       "<tbody>\n",
       "\t<tr><th scope=row>attack</th><td> 8.549683</td><td> 6.127094</td></tr>\n",
       "\t<tr><th scope=row>defense</th><td>10.324323</td><td> 7.531940</td></tr>\n",
       "\t<tr><th scope=row>height_m</th><td>11.977763</td><td> 8.970587</td></tr>\n",
       "\t<tr><th scope=row>hp</th><td>17.478741</td><td>11.263518</td></tr>\n",
       "\t<tr><th scope=row>sp_attack</th><td>16.451237</td><td>12.623153</td></tr>\n",
       "\t<tr><th scope=row>sp_defense</th><td> 3.162052</td><td> 5.991597</td></tr>\n",
       "\t<tr><th scope=row>speed</th><td>18.318616</td><td>13.463172</td></tr>\n",
       "\t<tr><th scope=row>type</th><td>10.100398</td><td>12.882612</td></tr>\n",
       "\t<tr><th scope=row>weight_kg</th><td>15.107947</td><td>14.338557</td></tr>\n",
       "</tbody>\n",
       "</table>\n"
      ],
      "text/latex": [
       "A matrix: 9 × 2 of type dbl\n",
       "\\begin{tabular}{r|ll}\n",
       "  & MeanDecreaseAccuracy & MeanDecreaseGini\\\\\n",
       "\\hline\n",
       "\tattack &  8.549683 &  6.127094\\\\\n",
       "\tdefense & 10.324323 &  7.531940\\\\\n",
       "\theight\\_m & 11.977763 &  8.970587\\\\\n",
       "\thp & 17.478741 & 11.263518\\\\\n",
       "\tsp\\_attack & 16.451237 & 12.623153\\\\\n",
       "\tsp\\_defense &  3.162052 &  5.991597\\\\\n",
       "\tspeed & 18.318616 & 13.463172\\\\\n",
       "\ttype & 10.100398 & 12.882612\\\\\n",
       "\tweight\\_kg & 15.107947 & 14.338557\\\\\n",
       "\\end{tabular}\n"
      ],
      "text/markdown": [
       "\n",
       "A matrix: 9 × 2 of type dbl\n",
       "\n",
       "| <!--/--> | MeanDecreaseAccuracy | MeanDecreaseGini |\n",
       "|---|---|---|\n",
       "| attack |  8.549683 |  6.127094 |\n",
       "| defense | 10.324323 |  7.531940 |\n",
       "| height_m | 11.977763 |  8.970587 |\n",
       "| hp | 17.478741 | 11.263518 |\n",
       "| sp_attack | 16.451237 | 12.623153 |\n",
       "| sp_defense |  3.162052 |  5.991597 |\n",
       "| speed | 18.318616 | 13.463172 |\n",
       "| type | 10.100398 | 12.882612 |\n",
       "| weight_kg | 15.107947 | 14.338557 |\n",
       "\n"
      ],
      "text/plain": [
       "           MeanDecreaseAccuracy MeanDecreaseGini\n",
       "attack      8.549683             6.127094       \n",
       "defense    10.324323             7.531940       \n",
       "height_m   11.977763             8.970587       \n",
       "hp         17.478741            11.263518       \n",
       "sp_attack  16.451237            12.623153       \n",
       "sp_defense  3.162052             5.991597       \n",
       "speed      18.318616            13.463172       \n",
       "type       10.100398            12.882612       \n",
       "weight_kg  15.107947            14.338557       "
      ]
     },
     "metadata": {},
     "output_type": "display_data"
    },
    {
     "data": {
      "image/png": "[encoded data removed]",
      "text/plain": [
       "plot without title"
      ]
     },
     "metadata": {
      "image/png": {
       "height": 420,
       "width": 420
      }
     },
     "output_type": "display_data"
    }
   ],
   "source": [
    "varImpPlot_forest <- varImpPlot(model_forest, \n",
    "                                main = \"Variable Importance in Random Forest\")\n",
    "varImpPlot_forest"
   ]
  }
 ],
 "metadata": {
  "kernelspec": {
   "display_name": "R",
   "language": "R",
   "name": "ir"
  },
  "language_info": {
   "codemirror_mode": "r",
   "file_extension": ".r",
   "mimetype": "text/x-r-source",
   "name": "R",
   "pygments_lexer": "r",
   "version": "4.4.2"
  }
 },
 "nbformat": 4,
 "nbformat_minor": 2
}
